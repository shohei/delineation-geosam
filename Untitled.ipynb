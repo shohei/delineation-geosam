{
 "cells": [
  {
   "cell_type": "code",
   "execution_count": 1,
   "id": "1c89068e-9a60-442a-b9be-311fd7726045",
   "metadata": {},
   "outputs": [],
   "source": [
    "import os\n",
    "import leafmap\n",
    "from samgeo import SamGeo, tms_to_geotiff, get_basemaps\n"
   ]
  },
  {
   "cell_type": "code",
   "execution_count": 80,
   "id": "b8dae896-53a3-4533-8eb7-61720c5ccae6",
   "metadata": {},
   "outputs": [
    {
     "data": {
      "application/vnd.jupyter.widget-view+json": {
       "model_id": "7803616074de476bbb16c97e17ad1cdb",
       "version_major": 2,
       "version_minor": 0
      },
      "text/plain": [
       "Map(center=[-0.476827, 36.519791], controls=(ZoomControl(options=['position', 'zoom_in_text', 'zoom_in_title',…"
      ]
     },
     "metadata": {},
     "output_type": "display_data"
    }
   ],
   "source": [
    "m = leafmap.Map(center=[-0.476827,36.519791], zoom=20)\n",
    "#224058.3,9947341.4\n",
    "m.add_basemap(\"SATELLITE\")\n",
    "m"
   ]
  },
  {
   "cell_type": "code",
   "execution_count": 81,
   "id": "f5bb2a17-c894-4238-8118-c724bfb47e07",
   "metadata": {},
   "outputs": [],
   "source": [
    "# if m.user_roi_bounds() is not None:\n",
    "#     bbox = m.user_roi_bounds()\n",
    "# else:\n",
    "#     bbox = [-95.3704, 29.6762, -95.368, 29.6775]\n",
    "\n",
    "bbox = m.user_roi_bounds()\n"
   ]
  },
  {
   "cell_type": "code",
   "execution_count": 82,
   "id": "484a5d13-26b0-4e69-bccb-da5888cd8d00",
   "metadata": {},
   "outputs": [],
   "source": [
    "#image = \"/Users/shohei/Downloads/L15-1231E-1021N.tif\"\n",
    "#image = \"satellite.tif\"\n",
    "image = 'muki_sacco_20-2.tif'\n"
   ]
  },
  {
   "cell_type": "code",
   "execution_count": 83,
   "id": "77b59f1b-471c-48ab-96ca-c90d7257a42c",
   "metadata": {},
   "outputs": [
    {
     "name": "stdout",
     "output_type": "stream",
     "text": [
      "Downloaded image 01/15\n",
      "Downloaded image 02/15\n",
      "Downloaded image 03/15\n",
      "Downloaded image 04/15\n",
      "Downloaded image 05/15\n",
      "Downloaded image 06/15\n",
      "Downloaded image 07/15\n",
      "Downloaded image 08/15\n",
      "Downloaded image 09/15\n",
      "Downloaded image 10/15\n",
      "Downloaded image 11/15\n",
      "Downloaded image 12/15\n",
      "Downloaded image 13/15\n",
      "Downloaded image 14/15\n",
      "Downloaded image 15/15\n",
      "Saving GeoTIFF. Please wait...\n",
      "Image saved to muki_sacco_20-2.tif\n"
     ]
    }
   ],
   "source": [
    "tms_to_geotiff(output=image, bbox=bbox, zoom=20, source=\"Satellite\", overwrite=True)"
   ]
  },
  {
   "cell_type": "code",
   "execution_count": 84,
   "id": "a534d5fe-8044-44f5-90e7-a1c79ac74dcc",
   "metadata": {},
   "outputs": [
    {
     "data": {
      "application/vnd.jupyter.widget-view+json": {
       "model_id": "7803616074de476bbb16c97e17ad1cdb",
       "version_major": 2,
       "version_minor": 0
      },
      "text/plain": [
       "Map(bottom=134574456.0, center=[-0.476827, 36.519791], controls=(ZoomControl(options=['position', 'zoom_in_tex…"
      ]
     },
     "metadata": {},
     "output_type": "display_data"
    }
   ],
   "source": [
    "m.layers[-1].visible = False  # turn off the basemap\n",
    "m.add_raster(image, layer_name=\"Image\")\n",
    "m"
   ]
  },
  {
   "cell_type": "code",
   "execution_count": 85,
   "id": "896992c2-beac-463f-a93c-22f63b3dd742",
   "metadata": {},
   "outputs": [],
   "source": [
    "sam = SamGeo(\n",
    "    model_type=\"vit_h\",\n",
    "    checkpoint=\"sam_vit_h_4b8939.pth\",\n",
    "    sam_kwargs=None,\n",
    ")"
   ]
  },
  {
   "cell_type": "code",
   "execution_count": 86,
   "id": "9653bee1-aef2-42ff-8db9-a6035248e0be",
   "metadata": {},
   "outputs": [
    {
     "name": "stderr",
     "output_type": "stream",
     "text": [
      "100%|█████████████████████████████████████████████████████████████████| 4/4 [05:37<00:00, 84.45s/it]\n"
     ]
    }
   ],
   "source": [
    "mask = \"segment.tif\"\n",
    "sam.generate(\n",
    "    image, mask, batch=True, foreground=True, erosion_kernel=(3, 3), mask_multiplier=255\n",
    ")"
   ]
  },
  {
   "cell_type": "code",
   "execution_count": 87,
   "id": "0b02b627-78c4-4f7c-a618-e31dfc3c5c0c",
   "metadata": {},
   "outputs": [],
   "source": [
    "vector = \"segment.gpkg\"\n",
    "sam.tiff_to_gpkg(mask, vector, simplify_tolerance=None)"
   ]
  },
  {
   "cell_type": "code",
   "execution_count": 88,
   "id": "2bd02d1d-53f7-48a9-ae5d-063762909961",
   "metadata": {},
   "outputs": [],
   "source": [
    "shapefile = \"segment.shp\"\n",
    "sam.tiff_to_vector(mask, shapefile)"
   ]
  },
  {
   "cell_type": "code",
   "execution_count": 89,
   "id": "4929961f-51c2-456f-9374-cb7cc0956a8b",
   "metadata": {
    "scrolled": true
   },
   "outputs": [
    {
     "data": {
      "application/vnd.jupyter.widget-view+json": {
       "model_id": "7803616074de476bbb16c97e17ad1cdb",
       "version_major": 2,
       "version_minor": 0
      },
      "text/plain": [
       "Map(bottom=134574456.0, center=[-0.4779999999999955, 36.518750000000004], controls=(ZoomControl(options=['posi…"
      ]
     },
     "metadata": {},
     "output_type": "display_data"
    }
   ],
   "source": [
    "style = {\n",
    "    \"color\": \"#3388ff\",\n",
    "    \"weight\": 2,\n",
    "    \"fillColor\": \"#7c4185\",\n",
    "    \"fillOpacity\": 0.5,\n",
    "}\n",
    "m.add_vector(vector, layer_name=\"Vector\", style=style)\n",
    "m"
   ]
  },
  {
   "cell_type": "code",
   "execution_count": null,
   "id": "df90980c-1156-445e-a202-40217ec9b007",
   "metadata": {},
   "outputs": [],
   "source": []
  }
 ],
 "metadata": {
  "kernelspec": {
   "display_name": "Python 3 (ipykernel)",
   "language": "python",
   "name": "python3"
  },
  "language_info": {
   "codemirror_mode": {
    "name": "ipython",
    "version": 3
   },
   "file_extension": ".py",
   "mimetype": "text/x-python",
   "name": "python",
   "nbconvert_exporter": "python",
   "pygments_lexer": "ipython3",
   "version": "3.9.2"
  }
 },
 "nbformat": 4,
 "nbformat_minor": 5
}
